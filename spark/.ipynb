{
 "cells": [
  {
   "cell_type": "code",
   "execution_count": null,
   "metadata": {},
   "outputs": [],
   "source": [
    "json_obj ={\n",
    "    \"type\":\"FeatureCollection\",\n",
    "    \"features\":[]\n",
    "}\n",
    "for c in cities:\n",
    "    city = c.split(',')[0]\n",
    "    state = c.split(',')[1]\n",
    "    response = requests.get('https://nominatim.openstreetmap.org/search.php?q='+city+\", \"+state+'&polygon_geojson=1&format=json')\n",
    "    if response:\n",
    "        data = response.json()\n",
    "        try:        \n",
    "            geo_json= data[0]['geojson'];\n",
    "            json_obj[\"features\"].append({\n",
    "                \"type\":\"Feature\",\n",
    "                \"properties\":{\n",
    "                    \"state\":state,\n",
    "                    \"city\": city\n",
    "                },\n",
    "                \"geometry\":geo_json\n",
    "            })\n",
    "        except:\n",
    "            print(\"Exception occured for city,\", city)\n",
    "    else:\n",
    "        print(\"error occured for city,\", city)\n",
    "    \n",
    "\n",
    "import json\n",
    "with open('city.json', 'w') as f:\n",
    "    json.dump(json_obj, f)"
   ]
  }
 ],
 "metadata": {
  "kernelspec": {
   "display_name": "Python 3",
   "language": "python",
   "name": "python3"
  },
  "language_info": {
   "codemirror_mode": {
    "name": "ipython",
    "version": 3
   },
   "file_extension": ".py",
   "mimetype": "text/x-python",
   "name": "python",
   "nbconvert_exporter": "python",
   "pygments_lexer": "ipython3",
   "version": "3.7.4"
  }
 },
 "nbformat": 4,
 "nbformat_minor": 2
}
